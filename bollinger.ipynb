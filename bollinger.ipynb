{
 "cells": [
  {
   "cell_type": "code",
   "execution_count": 9,
   "metadata": {
    "collapsed": true
   },
   "outputs": [],
   "source": [
    "import pandas as pd\n",
    "from pandas import ExcelWriter\n",
    "from pandas import ExcelFile\n",
    "import numpy as np\n",
    "import openpyxl\n",
    "import talib\n",
    "import matplotlib.pyplot as plt"
   ]
  },
  {
   "cell_type": "code",
   "execution_count": 10,
   "metadata": {
    "collapsed": false
   },
   "outputs": [],
   "source": [
    "def _retrive_data(_symbol,_begin,_end):\n",
    "    #获取数据并按日期升序排序\n",
    "    data= pd.read_excel('goog.xlsx',sheetname = 'goog',index_col=0).sort_index()\n",
    "    # data = data.sort_index()\n",
    "    return data[_begin:_end]"
   ]
  },
  {
   "cell_type": "code",
   "execution_count": 11,
   "metadata": {
    "collapsed": true
   },
   "outputs": [],
   "source": [
    "d = _retrive_data(\"goog\",\"2015-01-09\",\"2015-06\")\n",
    "open = d[\"Open\"].values\n",
    "close = d[\"Close\"].values\n",
    "high = d[\"High\"].values\n",
    "low = d[\"Low\"].values\n",
    "datem = d.index[:]"
   ]
  },
  {
   "cell_type": "code",
   "execution_count": 12,
   "metadata": {
    "collapsed": true
   },
   "outputs": [],
   "source": [
    "middleline = talib.MA(np.asarray(close),10,matype = 0)"
   ]
  },
  {
   "cell_type": "code",
   "execution_count": 18,
   "metadata": {
    "collapsed": false
   },
   "outputs": [],
   "source": [
    "sd = []\n",
    "for i in range(10,len(middleline)):\n",
    "    ml = middleline[i-10:i]\n",
    "    s = np.std(ml)\n",
    "    sd.append(s)"
   ]
  },
  {
   "cell_type": "code",
   "execution_count": 31,
   "metadata": {
    "collapsed": false
   },
   "outputs": [],
   "source": [
    "s = sd[0]"
   ]
  },
  {
   "cell_type": "code",
   "execution_count": 32,
   "metadata": {
    "collapsed": false
   },
   "outputs": [
    {
     "data": {
      "text/plain": [
       "nan"
      ]
     },
     "execution_count": 32,
     "metadata": {},
     "output_type": "execute_result"
    }
   ],
   "source": [
    "s"
   ]
  },
  {
   "cell_type": "code",
   "execution_count": 44,
   "metadata": {
    "collapsed": true
   },
   "outputs": [],
   "source": [
    "sd1 = [s]*10"
   ]
  },
  {
   "cell_type": "code",
   "execution_count": 45,
   "metadata": {
    "collapsed": false
   },
   "outputs": [
    {
     "data": {
      "text/plain": [
       "[nan, nan, nan, nan, nan, nan, nan, nan, nan, nan]"
      ]
     },
     "execution_count": 45,
     "metadata": {},
     "output_type": "execute_result"
    }
   ],
   "source": [
    "sd1"
   ]
  },
  {
   "cell_type": "code",
   "execution_count": 46,
   "metadata": {
    "collapsed": true
   },
   "outputs": [],
   "source": [
    "sd2 = sd1+sd"
   ]
  },
  {
   "cell_type": "code",
   "execution_count": 50,
   "metadata": {
    "collapsed": false
   },
   "outputs": [],
   "source": [
    "sdnp = np.asarray(sd2)"
   ]
  },
  {
   "cell_type": "code",
   "execution_count": 51,
   "metadata": {
    "collapsed": true
   },
   "outputs": [],
   "source": [
    "uline = middleline+2*sdnp"
   ]
  },
  {
   "cell_type": "code",
   "execution_count": 52,
   "metadata": {
    "collapsed": true
   },
   "outputs": [],
   "source": [
    "lline = middleline-2*sdnp"
   ]
  },
  {
   "cell_type": "code",
   "execution_count": 53,
   "metadata": {
    "collapsed": false
   },
   "outputs": [
    {
     "data": {
      "text/plain": [
       "array([          nan,           nan,           nan,           nan,\n",
       "                 nan,           nan,           nan,           nan,\n",
       "                 nan,           nan,           nan,           nan,\n",
       "                 nan,           nan,           nan,           nan,\n",
       "                 nan,           nan,           nan,  535.8291505 ,\n",
       "        532.99488868,  533.17658458,  534.62915457,  537.08361327,\n",
       "        538.41284744,  540.66436497,  542.78056634,  545.91668249,\n",
       "        548.28045058,  549.12538385,  549.75999366,  549.26839368,\n",
       "        549.76677853,  550.37037526,  552.53205088,  555.99791803,\n",
       "        560.45782347,  565.26847477,  570.14235797,  575.74700068,\n",
       "        579.41881593,  581.18560978,  581.12753017,  579.15872528,\n",
       "        575.56891613,  570.64357583,  566.55290479,  562.86386671,\n",
       "        561.76693219,  561.4834273 ,  563.98825892,  564.69327713,\n",
       "        563.93521369,  562.80353557,  561.09892779,  559.42178553,\n",
       "        556.96223574,  554.62763968,  553.34140562,  552.77772697,\n",
       "        551.73879684,  552.00518375,  552.08874395,  552.32815342,\n",
       "        550.64730471,  549.31316534,  548.02846912,  546.05714979,\n",
       "        545.01157545,  543.57113184,  542.07531258,  541.72798683,\n",
       "        543.14011669,  543.6514815 ,  545.31792696,  548.05218744,\n",
       "        549.93723378,  552.37612793,  553.7640379 ,  553.85700006,\n",
       "        552.04435858,  549.19625803,  544.7323603 ,  542.12330054,\n",
       "        540.36651469,  540.25187997,  542.14773751,  542.71309691,\n",
       "        542.10518459,  542.38101652,  542.64360463,  542.09812406,\n",
       "        540.35440243,  538.71433537,  539.01451045,  540.33602627,\n",
       "        540.2358455 ,  540.38351251,  540.96910913,  540.7280748 ,\n",
       "        539.81613372,  538.50094901,  536.98475203,  536.54394449,\n",
       "        536.46348107,  536.38836172,  536.77439319,  536.3530137 ,\n",
       "        535.54611496,  534.69867401,  534.85699342,  534.95235264,\n",
       "        535.68252079,  536.69809267,  536.61461575,  536.57511318,\n",
       "        536.54648038,  535.99490009,  535.24975495])"
      ]
     },
     "execution_count": 53,
     "metadata": {},
     "output_type": "execute_result"
    }
   ],
   "source": [
    "uline"
   ]
  },
  {
   "cell_type": "code",
   "execution_count": 54,
   "metadata": {
    "collapsed": false
   },
   "outputs": [
    {
     "data": {
      "text/plain": [
       "array([          nan,           nan,           nan,           nan,\n",
       "                 nan,           nan,           nan,           nan,\n",
       "                 nan,           nan,           nan,           nan,\n",
       "                 nan,           nan,           nan,           nan,\n",
       "                 nan,           nan,           nan,  513.7916129 ,\n",
       "        515.14986632,  518.63017882,  522.37162623,  526.37120193,\n",
       "        527.93997896,  528.56047383,  528.53627686,  529.42217731,\n",
       "        529.33241922,  528.66947915,  529.68687294,  531.56448832,\n",
       "        534.96812567,  537.45853674,  539.76288112,  542.45704737,\n",
       "        544.73117413,  546.41255823,  547.28569843,  549.06909092,\n",
       "        549.18129847,  548.87650982,  548.94058723,  548.69339052,\n",
       "        548.91718127,  549.28249377,  550.59915081,  550.82016949,\n",
       "        550.45209981,  548.7275953 ,  549.25877548,  550.07476207,\n",
       "        550.76482891,  552.10050883,  553.30911521,  554.41825687,\n",
       "        553.48979186,  551.33236892,  547.89958198,  544.10523943,\n",
       "        539.42813936,  535.56073905,  532.44515765,  530.37173898,\n",
       "        527.72456829,  525.96469986,  525.49738648,  525.17269961,\n",
       "        525.94126915,  526.77171456,  527.81853622,  529.40986197,\n",
       "        533.00776111,  535.7359021 ,  538.72697424,  539.30223136,\n",
       "        538.12471222,  538.45534567,  538.1469599 ,  537.41951274,\n",
       "        536.20265682,  535.79026537,  534.8856451 ,  533.56070826,\n",
       "        530.38949111,  526.61212143,  524.92826329,  523.55289429,\n",
       "        522.46479841,  523.50096588,  526.24838757,  529.15586774,\n",
       "        531.27759217,  532.24165823,  534.09148315,  534.80197413,\n",
       "        533.6441471 ,  533.52448289,  534.31488727,  535.1459242 ,\n",
       "        535.54386368,  535.02304979,  533.88325317,  533.19805971,\n",
       "        532.65852793,  531.69963848,  531.35761341,  530.4209973 ,\n",
       "        529.02190224,  527.65934559,  527.50701978,  528.08365756,\n",
       "        529.62548641,  531.36791013,  531.68139205,  531.84489362,\n",
       "        531.74552342,  531.16110531,  530.37824765])"
      ]
     },
     "execution_count": 54,
     "metadata": {},
     "output_type": "execute_result"
    }
   ],
   "source": [
    "lline"
   ]
  },
  {
   "cell_type": "code",
   "execution_count": null,
   "metadata": {
    "collapsed": true
   },
   "outputs": [],
   "source": []
  }
 ],
 "metadata": {
  "anaconda-cloud": {},
  "kernelspec": {
   "display_name": "Python [default]",
   "language": "python",
   "name": "python3"
  },
  "language_info": {
   "codemirror_mode": {
    "name": "ipython",
    "version": 3
   },
   "file_extension": ".py",
   "mimetype": "text/x-python",
   "name": "python",
   "nbconvert_exporter": "python",
   "pygments_lexer": "ipython3",
   "version": "3.5.2"
  }
 },
 "nbformat": 4,
 "nbformat_minor": 1
}
